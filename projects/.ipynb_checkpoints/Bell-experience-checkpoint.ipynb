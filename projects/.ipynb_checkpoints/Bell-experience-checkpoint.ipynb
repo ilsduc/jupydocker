{
 "cells": [
  {
   "cell_type": "markdown",
   "metadata": {},
   "source": [
    "# Violation des inegalites de Bell"
   ]
  },
  {
   "cell_type": "code",
   "execution_count": 763,
   "metadata": {},
   "outputs": [],
   "source": [
    "from qiskit import *\n",
    "import numpy as np\n",
    "import matplotlib.pyplot as plt"
   ]
  },
  {
   "cell_type": "markdown",
   "metadata": {},
   "source": [
    "#### Creation de la source pour generer les photons intriques"
   ]
  },
  {
   "cell_type": "code",
   "execution_count": 764,
   "metadata": {},
   "outputs": [],
   "source": [
    "def createSource():\n",
    "    source = QuantumCircuit(2, name='propulsor')\n",
    "    ## Intrication des 2 qubits\n",
    "    source.h(0)\n",
    "    source.cx(0,1)\n",
    "    return source"
   ]
  },
  {
   "cell_type": "markdown",
   "metadata": {},
   "source": [
    "#### Creation des filtres polariseur"
   ]
  },
  {
   "cell_type": "code",
   "execution_count": 767,
   "metadata": {},
   "outputs": [],
   "source": [
    "def createFilters(teta_0, teta_1):\n",
    "    filters = QuantumCircuit(2, name='filters')\n",
    "    # Rotation par rapport à l'axe Y de la sphere de Bloch avec un angle teta\n",
    "    filters.ry(teta_0, 0)\n",
    "    filters.ry(teta_1, 1)\n",
    "    return filters"
   ]
  },
  {
   "cell_type": "markdown",
   "metadata": {},
   "source": [
    "#### Definissons les angles interessants et le backend"
   ]
  },
  {
   "cell_type": "code",
   "execution_count": 786,
   "metadata": {},
   "outputs": [],
   "source": [
    "# Degres utilises pour l'experience\n",
    "_0deg = 0\n",
    "_45deg = np.pi / 4\n",
    "_90deg = np.pi / 2\n",
    "\n",
    "backend = Aer.get_backend('statevector_simulator')"
   ]
  },
  {
   "cell_type": "markdown",
   "metadata": {},
   "source": [
    "### (1) 0° / 0°"
   ]
  },
  {
   "cell_type": "code",
   "execution_count": 787,
   "metadata": {},
   "outputs": [
    {
     "data": {
      "text/plain": [
       "{'00': 0.5, '11': 0.5}"
      ]
     },
     "execution_count": 787,
     "metadata": {},
     "output_type": "execute_result"
    }
   ],
   "source": [
    "source = createSource()\n",
    "# Reglage des angles\n",
    "filters = createFilters(_0deg, _0deg)\n",
    "\n",
    "source.append(filters, [0, 1])\n",
    "\n",
    "job = execute(source, backend, shots=1000)\n",
    "result = job.result()\n",
    "\n",
    "result.get_counts()"
   ]
  },
  {
   "cell_type": "markdown",
   "metadata": {},
   "source": [
    "### (2) 0° / 90°"
   ]
  },
  {
   "cell_type": "code",
   "execution_count": 789,
   "metadata": {},
   "outputs": [
    {
     "data": {
      "text/plain": [
       "{'00': 0.25, '01': 0.25, '10': 0.25, '11': 0.25}"
      ]
     },
     "execution_count": 789,
     "metadata": {},
     "output_type": "execute_result"
    }
   ],
   "source": [
    "source = createSource()\n",
    "# Reglage des angles\n",
    "filters = createFilters(_0deg, _90deg)\n",
    "\n",
    "source.append(filters, [0, 1])\n",
    "\n",
    "job = execute(source, backend, shots=1000)\n",
    "result = job.result()\n",
    "\n",
    "result.get_counts()"
   ]
  },
  {
   "cell_type": "markdown",
   "metadata": {},
   "source": [
    "### (3) 0° / 45°"
   ]
  },
  {
   "cell_type": "code",
   "execution_count": 795,
   "metadata": {},
   "outputs": [
    {
     "data": {
      "text/plain": [
       "{'00': 0.426776695296637,\n",
       " '01': 0.073223304703363,\n",
       " '10': 0.073223304703363,\n",
       " '11': 0.426776695296637}"
      ]
     },
     "execution_count": 795,
     "metadata": {},
     "output_type": "execute_result"
    }
   ],
   "source": [
    "source = createSource()\n",
    "# Reglage des angles\n",
    "filters = createFilters(_0deg, _45deg)\n",
    "\n",
    "source.append(filters, [0, 1])\n",
    "\n",
    "job = execute(source, backend, shots=1000)\n",
    "result = job.result()\n",
    "\n",
    "result.get_counts()"
   ]
  },
  {
   "cell_type": "markdown",
   "metadata": {},
   "source": [
    "### (4) 0° / 90°"
   ]
  },
  {
   "cell_type": "code",
   "execution_count": 796,
   "metadata": {},
   "outputs": [
    {
     "data": {
      "text/plain": [
       "{'00': 0.426776695296637,\n",
       " '01': 0.073223304703363,\n",
       " '10': 0.073223304703363,\n",
       " '11': 0.426776695296637}"
      ]
     },
     "execution_count": 796,
     "metadata": {},
     "output_type": "execute_result"
    }
   ],
   "source": [
    "source = createSource()\n",
    "# Reglage des angles\n",
    "filters = createFilters(_45deg, _90deg)\n",
    "\n",
    "source.append(filters, [0, 1])\n",
    "\n",
    "job = execute(source, backend, shots=1000)\n",
    "result = job.result()\n",
    "\n",
    "result.get_counts()"
   ]
  },
  {
   "cell_type": "code",
   "execution_count": null,
   "metadata": {},
   "outputs": [],
   "source": []
  }
 ],
 "metadata": {
  "kernelspec": {
   "display_name": "Python 3",
   "language": "python",
   "name": "python3"
  },
  "language_info": {
   "codemirror_mode": {
    "name": "ipython",
    "version": 3
   },
   "file_extension": ".py",
   "mimetype": "text/x-python",
   "name": "python",
   "nbconvert_exporter": "python",
   "pygments_lexer": "ipython3",
   "version": "3.8.5"
  }
 },
 "nbformat": 4,
 "nbformat_minor": 4
}
